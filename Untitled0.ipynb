{
  "nbformat": 4,
  "nbformat_minor": 0,
  "metadata": {
    "colab": {
      "name": "Untitled0.ipynb",
      "provenance": [],
      "collapsed_sections": [],
      "authorship_tag": "ABX9TyOlwR7cvia0NO6nKFNamQCN",
      "include_colab_link": true
    },
    "kernelspec": {
      "name": "python3",
      "display_name": "Python 3"
    },
    "language_info": {
      "name": "python"
    }
  },
  "cells": [
    {
      "cell_type": "markdown",
      "metadata": {
        "id": "view-in-github",
        "colab_type": "text"
      },
      "source": [
        "<a href=\"https://colab.research.google.com/github/Anillingampalli/j-component/blob/main/Untitled0.ipynb\" target=\"_parent\"><img src=\"https://colab.research.google.com/assets/colab-badge.svg\" alt=\"Open In Colab\"/></a>"
      ]
    },
    {
      "cell_type": "code",
      "metadata": {
        "id": "dN1u3e7Etm6L"
      },
      "source": [
        ""
      ],
      "execution_count": null,
      "outputs": []
    },
    {
      "cell_type": "code",
      "metadata": {
        "colab": {
          "base_uri": "https://localhost:8080/"
        },
        "id": "shn87vQ9ty_H",
        "outputId": "74070d32-6fe4-493c-fcae-91de82e7afd2"
      },
      "source": [
        "from google.colab import drive\n",
        "drive.mount('/gdrive')"
      ],
      "execution_count": 1,
      "outputs": [
        {
          "output_type": "stream",
          "name": "stdout",
          "text": [
            "Mounted at /gdrive\n"
          ]
        }
      ]
    },
    {
      "cell_type": "code",
      "metadata": {
        "colab": {
          "base_uri": "https://localhost:8080/"
        },
        "id": "M3naJhv9uLgF",
        "outputId": "126bc18c-683b-4438-ec10-7902ad452323"
      },
      "source": [
        "import pandas as pd\n",
        "d=pd.read_csv('/assignment aml xl.csv')\n",
        "print(d)"
      ],
      "execution_count": 2,
      "outputs": [
        {
          "output_type": "stream",
          "name": "stdout",
          "text": [
            "    Years(X1)  Salary(Y)\n",
            "0         3.2      54445\n",
            "1         3.2      64445\n",
            "2         3.7      57189\n",
            "3         3.9      63218\n",
            "4         4.0      55794\n",
            "5         4.0      56957\n",
            "6         4.1      57081\n",
            "7         4.5      61111\n",
            "8         4.9      67938\n",
            "9         5.1      66029\n",
            "10        5.3      83088\n",
            "11        5.9      81363\n",
            "12        6.0      93940\n"
          ]
        }
      ]
    },
    {
      "cell_type": "code",
      "metadata": {
        "colab": {
          "base_uri": "https://localhost:8080/"
        },
        "id": "--mVU5Ldumq2",
        "outputId": "47cde892-065a-4aa5-dd96-db161fc2fb6f"
      },
      "source": [
        "p=pd.read_csv('/beta aml assignment.csv')\n",
        "print(p)"
      ],
      "execution_count": 3,
      "outputs": [
        {
          "output_type": "stream",
          "name": "stdout",
          "text": [
            "    beta 0  beta 1\n",
            "0     1235    1900\n",
            "1     1500    1950\n",
            "2     1850    2000\n",
            "3     2000    2100\n"
          ]
        }
      ]
    },
    {
      "cell_type": "code",
      "metadata": {
        "colab": {
          "base_uri": "https://localhost:8080/"
        },
        "id": "Xh-rWOuau2eT",
        "outputId": "d02f7d1c-e6ac-469e-802c-c7b4ff8f12f6"
      },
      "source": [
        "import numpy as np\n",
        "b0 = np.array([1235, 1500, 1850, 2000])\n",
        "b1 = np.array([1900, 1950, 2000, 2100])\n",
        "x = np.array([3.2, 3.2, 3.7, 3.9, 4, 4, 4.1, 4.5, 4.9, 5.1, 5.3, 5.9, 6])\n",
        "y = np.array([54445, 64445, 57189, 63218, 55794, 56957, 57081, 61111, 67938, 66029, 83088, 81363, 93940]) \n",
        "size = x.size\n",
        "for i in range(4): \n",
        "  Y_temp = []\n",
        "  for j in range(size):\n",
        "    temp = (b0[i] + (b1[i]*x[j])) \n",
        "    Y_temp.append((y[j] - temp)**2 ) \n",
        "  print(f\"Mean Square Error for Beta values {b0[i]} and {b1[i]} is -:-  {np.mean(Y_temp)}\")"
      ],
      "execution_count": 4,
      "outputs": [
        {
          "output_type": "stream",
          "name": "stdout",
          "text": [
            "Mean Square Error for Beta values 1235 and 1900 is -:-  3320373537.3076925\n",
            "Mean Square Error for Beta values 1500 and 1950 is -:-  3264631537.6923075\n",
            "Mean Square Error for Beta values 1850 and 2000 is -:-  3199907304.6153846\n",
            "Mean Square Error for Beta values 2000 and 2100 is -:-  3132651969.230769\n"
          ]
        }
      ]
    },
    {
      "cell_type": "code",
      "metadata": {
        "id": "iDZrjSlrty_K"
      },
      "source": [
        "with open('/gdrive/My Drive/foo.txt', 'w') as f:\n",
        "  f.write('Hello Google Drive!')\n",
        "!cat '/gdrive/My Drive/foo.txt'"
      ],
      "execution_count": null,
      "outputs": []
    }
  ]
}